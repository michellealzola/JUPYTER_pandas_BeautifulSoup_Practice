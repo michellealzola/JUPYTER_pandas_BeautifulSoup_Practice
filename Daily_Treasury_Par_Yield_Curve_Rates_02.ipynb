{
 "cells": [
  {
   "cell_type": "code",
   "execution_count": 1,
   "metadata": {
    "collapsed": true
   },
   "outputs": [],
   "source": [
    "# Use the Requests and bs4 packages to read the yield matrix.\n"
   ]
  },
  {
   "cell_type": "code",
   "execution_count": 2,
   "metadata": {},
   "outputs": [],
   "source": [
    "from bs4 import BeautifulSoup\n",
    "import requests\n"
   ]
  },
  {
   "cell_type": "code",
   "execution_count": 3,
   "outputs": [],
   "source": [
    "url = 'https://home.treasury.gov/resource-center/data-chart-center/interest-rates/TextView?type=daily_treasury_yield_curve&field_tdr_date_value=2022'\n"
   ],
   "metadata": {
    "collapsed": false
   }
  },
  {
   "cell_type": "code",
   "execution_count": 4,
   "outputs": [],
   "source": [
    "page = requests.get(url)"
   ],
   "metadata": {
    "collapsed": false
   }
  },
  {
   "cell_type": "code",
   "execution_count": 6,
   "outputs": [],
   "source": [
    "soup = BeautifulSoup(page.content, 'html.parser')"
   ],
   "metadata": {
    "collapsed": false
   }
  },
  {
   "cell_type": "code",
   "execution_count": 9,
   "outputs": [
    {
     "data": {
      "text/plain": "'Resource Center | U.S. Department of the Treasury'"
     },
     "execution_count": 9,
     "metadata": {},
     "output_type": "execute_result"
    }
   ],
   "source": [
    "soup.title.text.strip()"
   ],
   "metadata": {
    "collapsed": false
   }
  },
  {
   "cell_type": "code",
   "execution_count": 10,
   "outputs": [],
   "source": [
    "yield_20Yr = soup.find_all('td', {'class' :'bc20year'})\n"
   ],
   "metadata": {
    "collapsed": false
   }
  },
  {
   "cell_type": "code",
   "execution_count": 17,
   "outputs": [],
   "source": [
    "list_20Yr = []\n",
    "for y in yield_20Yr:\n",
    "    list_20Yr.append(float(y.text.strip()))\n"
   ],
   "metadata": {
    "collapsed": false
   }
  },
  {
   "cell_type": "code",
   "execution_count": 18,
   "outputs": [
    {
     "data": {
      "text/plain": "[2.05,\n 2.1,\n 2.12,\n 2.12,\n 2.15,\n 2.15,\n 2.13,\n 2.13,\n 2.1,\n 2.18,\n 2.24,\n 2.2,\n 2.19,\n 2.13,\n 2.15,\n 2.18,\n 2.22,\n 2.17,\n 2.14,\n 2.17,\n 2.19,\n 2.17,\n 2.2,\n 2.29,\n 2.28,\n 2.31,\n 2.31,\n 2.37,\n 2.3,\n 2.35,\n 2.42,\n 2.39,\n 2.35,\n 2.3,\n 2.31,\n 2.36,\n 2.36,\n 2.37,\n 2.25,\n 2.19,\n 2.32,\n 2.32,\n 2.23,\n 2.29,\n 2.34,\n 2.38,\n 2.45,\n 2.45,\n 2.56,\n 2.57,\n 2.56,\n 2.6,\n 2.53,\n 2.67,\n 2.71,\n 2.65,\n 2.63,\n 2.74,\n 2.72,\n 2.68,\n 2.63,\n 2.59,\n 2.6,\n 2.64,\n 2.74,\n 2.81,\n 2.87,\n 2.94,\n 3.02,\n 2.99,\n 2.97,\n 3.09,\n 3.12,\n 3.19,\n 3.08,\n 3.12,\n 3.14,\n 3.06,\n 3.03,\n 3.08,\n 3.1,\n 3.14,\n 3.26,\n 3.21,\n 3.21,\n 3.35,\n 3.43,\n 3.38,\n 3.31,\n 3.25,\n 3.22,\n 3.32,\n 3.3,\n 3.36,\n 3.24,\n 3.24,\n 3.17,\n 3.26,\n 3.16,\n 3.14,\n 3.18,\n 3.16,\n 3.28,\n 3.31,\n 3.3,\n 3.33,\n 3.41,\n 3.35,\n 3.4,\n 3.4,\n 3.45,\n 3.68,\n 3.72,\n 3.64,\n 3.59,\n 3.55,\n 3.63,\n 3.49,\n 3.45,\n 3.51,\n 3.56,\n 3.55,\n 3.46,\n 3.38,\n 3.35,\n 3.31,\n 3.42,\n 3.45,\n 3.53,\n 3.43,\n 3.37,\n 3.35,\n 3.36,\n 3.34,\n 3.39,\n 3.42,\n 3.43,\n 3.33,\n 3.23,\n 3.28,\n 3.27,\n 3.26,\n 3.23,\n 3.2,\n 3.12,\n 3.22,\n 3.17,\n 3.15,\n 3.27,\n 3.22,\n 3.24,\n 3.27,\n 3.38,\n 3.34,\n 3.31,\n 3.31,\n 3.37,\n 3.35,\n 3.44,\n 3.48,\n 3.49,\n 3.55,\n 3.47,\n 3.44,\n 3.5,\n 3.49,\n 3.53,\n 3.64,\n 3.61,\n 3.74,\n 3.67,\n 3.69,\n 3.71,\n 3.76,\n 3.75,\n 3.73,\n 3.75,\n 3.79,\n 3.77,\n 3.83,\n 3.73,\n 3.9,\n 3.87,\n 4.01,\n 4.15,\n 3.98,\n 4.0,\n 4.08,\n 4.0,\n 3.95,\n 4.05,\n 4.08,\n 4.13,\n 4.19,\n 4.18,\n 4.25,\n 4.26,\n 4.29,\n 4.27,\n 4.38,\n 4.47,\n 4.54,\n 4.59,\n 4.45,\n 4.38,\n 4.32,\n 4.38,\n 4.44,\n 4.37,\n 4.41,\n 4.42,\n 4.49,\n 4.55,\n 4.47,\n 4.5,\n 4.24,\n 4.28,\n 4.2,\n 4.03,\n 4.1,\n 4.13,\n 4.14,\n 4.05,\n 3.97,\n 3.97,\n 3.97,\n 4.02,\n 4.0,\n 3.85,\n 3.79,\n 3.84,\n 3.77,\n 3.66,\n 3.71,\n 3.82,\n 3.84,\n 3.74,\n 3.74,\n 3.69,\n 3.73,\n 3.82,\n 3.94,\n 3.93,\n 3.91,\n 3.99,\n 4.1,\n 4.13,\n 4.09,\n 4.14]"
     },
     "execution_count": 18,
     "metadata": {},
     "output_type": "execute_result"
    }
   ],
   "source": [
    "list_20Yr\n"
   ],
   "metadata": {
    "collapsed": false
   }
  },
  {
   "cell_type": "code",
   "execution_count": 19,
   "outputs": [],
   "source": [
    "yield_30Yr = soup.find_all('td', {'class' :'bc30year'})\n"
   ],
   "metadata": {
    "collapsed": false
   }
  },
  {
   "cell_type": "code",
   "execution_count": 20,
   "outputs": [],
   "source": [
    "list_30Yr = []\n",
    "for y in yield_30Yr:\n",
    "    list_30Yr.append(float(y.text.strip()))"
   ],
   "metadata": {
    "collapsed": false
   }
  },
  {
   "cell_type": "code",
   "execution_count": 49,
   "outputs": [
    {
     "data": {
      "text/plain": "[2.01,\n 2.07,\n 2.09,\n 2.09,\n 2.11,\n 2.11,\n 2.08,\n 2.08,\n 2.05,\n 2.12,\n 2.18,\n 2.14,\n 2.14,\n 2.07,\n 2.1,\n 2.12,\n 2.16,\n 2.09,\n 2.07,\n 2.11,\n 2.12,\n 2.11,\n 2.14,\n 2.23,\n 2.22,\n 2.25,\n 2.25,\n 2.3,\n 2.24,\n 2.29,\n 2.37,\n 2.34,\n 2.31,\n 2.24,\n 2.24,\n 2.29,\n 2.28,\n 2.29,\n 2.17,\n 2.11,\n 2.24,\n 2.24,\n 2.16,\n 2.19,\n 2.24,\n 2.29,\n 2.38,\n 2.36,\n 2.47,\n 2.49,\n 2.46,\n 2.5,\n 2.42,\n 2.55,\n 2.6,\n 2.52,\n 2.51,\n 2.6,\n 2.57,\n 2.53,\n 2.48,\n 2.44,\n 2.44,\n 2.48,\n 2.57,\n 2.63,\n 2.69,\n 2.76,\n 2.84,\n 2.82,\n 2.81,\n 2.92,\n 2.95,\n 3.01,\n 2.9,\n 2.94,\n 2.95,\n 2.88,\n 2.86,\n 2.91,\n 2.92,\n 2.96,\n 3.07,\n 3.03,\n 3.01,\n 3.15,\n 3.23,\n 3.19,\n 3.12,\n 3.05,\n 3.0,\n 3.1,\n 3.09,\n 3.17,\n 3.07,\n 3.05,\n 2.99,\n 3.08,\n 2.98,\n 2.97,\n 2.99,\n 2.97,\n 3.07,\n 3.09,\n 3.09,\n 3.11,\n 3.19,\n 3.13,\n 3.18,\n 3.18,\n 3.2,\n 3.42,\n 3.45,\n 3.39,\n 3.35,\n 3.3,\n 3.39,\n 3.25,\n 3.21,\n 3.26,\n 3.31,\n 3.3,\n 3.22,\n 3.14,\n 3.11,\n 3.05,\n 3.14,\n 3.2,\n 3.27,\n 3.18,\n 3.13,\n 3.08,\n 3.11,\n 3.1,\n 3.14,\n 3.17,\n 3.17,\n 3.08,\n 3.0,\n 3.04,\n 3.03,\n 3.03,\n 3.02,\n 3.0,\n 2.92,\n 3.0,\n 2.96,\n 2.97,\n 3.06,\n 3.0,\n 3.01,\n 3.04,\n 3.15,\n 3.12,\n 3.1,\n 3.11,\n 3.15,\n 3.14,\n 3.22,\n 3.24,\n 3.26,\n 3.32,\n 3.25,\n 3.21,\n 3.25,\n 3.23,\n 3.27,\n 3.37,\n 3.35,\n 3.49,\n 3.42,\n 3.45,\n 3.47,\n 3.53,\n 3.51,\n 3.47,\n 3.48,\n 3.52,\n 3.52,\n 3.59,\n 3.5,\n 3.65,\n 3.61,\n 3.72,\n 3.87,\n 3.7,\n 3.71,\n 3.79,\n 3.73,\n 3.7,\n 3.78,\n 3.81,\n 3.86,\n 3.92,\n 3.9,\n 3.97,\n 3.99,\n 4.04,\n 4.04,\n 4.15,\n 4.24,\n 4.33,\n 4.4,\n 4.26,\n 4.19,\n 4.12,\n 4.15,\n 4.22,\n 4.14,\n 4.15,\n 4.18,\n 4.27,\n 4.34,\n 4.28,\n 4.31,\n 4.03,\n 4.07,\n 3.98,\n 3.85,\n 3.89,\n 3.92,\n 3.91,\n 3.83,\n 3.74,\n 3.74,\n 3.74,\n 3.81,\n 3.8,\n 3.64,\n 3.56,\n 3.62,\n 3.52,\n 3.42,\n 3.44,\n 3.56,\n 3.57,\n 3.53,\n 3.52,\n 3.48,\n 3.53,\n 3.62,\n 3.74,\n 3.74,\n 3.73,\n 3.82,\n 3.93,\n 3.98,\n 3.92,\n 3.97]"
     },
     "execution_count": 49,
     "metadata": {},
     "output_type": "execute_result"
    }
   ],
   "source": [
    "list_30Yr\n"
   ],
   "metadata": {
    "collapsed": false
   }
  },
  {
   "cell_type": "code",
   "execution_count": 24,
   "outputs": [
    {
     "data": {
      "text/plain": "249"
     },
     "execution_count": 24,
     "metadata": {},
     "output_type": "execute_result"
    }
   ],
   "source": [
    "len(yield_20Yr)\n",
    "\n"
   ],
   "metadata": {
    "collapsed": false
   }
  },
  {
   "cell_type": "code",
   "execution_count": 25,
   "outputs": [
    {
     "data": {
      "text/plain": "249"
     },
     "execution_count": 25,
     "metadata": {},
     "output_type": "execute_result"
    }
   ],
   "source": [
    "len(yield_30Yr)\n"
   ],
   "metadata": {
    "collapsed": false
   }
  },
  {
   "cell_type": "code",
   "execution_count": 28,
   "outputs": [],
   "source": [
    "num_rows = len(yield_20Yr)\n"
   ],
   "metadata": {
    "collapsed": false
   }
  },
  {
   "cell_type": "code",
   "execution_count": 30,
   "outputs": [
    {
     "data": {
      "text/plain": "249"
     },
     "execution_count": 30,
     "metadata": {},
     "output_type": "execute_result"
    }
   ],
   "source": [
    "num_rows\n"
   ],
   "metadata": {
    "collapsed": false
   }
  },
  {
   "cell_type": "code",
   "execution_count": 57,
   "outputs": [],
   "source": [
    "difference_list = []\n",
    "\n",
    "for i in range(num_rows):\n",
    "    x = float(yield_20Yr[i].text)\n",
    "    y = float(yield_30Yr[i].text)\n",
    "    difference = y - x\n",
    "    difference_list.append(f'{difference:.2f}')\n"
   ],
   "metadata": {
    "collapsed": false
   }
  },
  {
   "cell_type": "code",
   "execution_count": 60,
   "outputs": [
    {
     "name": "stdout",
     "output_type": "stream",
     "text": [
      "The difference between the last two yield curves in the yield matrix is\n",
      "['-0.04', '-0.03', '-0.03', '-0.03', '-0.04', '-0.04', '-0.05', '-0.05', '-0.05', '-0.06', '-0.06', '-0.06', '-0.05', '-0.06', '-0.05', '-0.06', '-0.06', '-0.08', '-0.07', '-0.06', '-0.07', '-0.06', '-0.06', '-0.06', '-0.06', '-0.06', '-0.06', '-0.07', '-0.06', '-0.06', '-0.05', '-0.05', '-0.04', '-0.06', '-0.07', '-0.07', '-0.08', '-0.08', '-0.08', '-0.08', '-0.08', '-0.08', '-0.07', '-0.10', '-0.10', '-0.09', '-0.07', '-0.09', '-0.09', '-0.08', '-0.10', '-0.10', '-0.11', '-0.12', '-0.11', '-0.13', '-0.12', '-0.14', '-0.15', '-0.15', '-0.15', '-0.15', '-0.16', '-0.16', '-0.17', '-0.18', '-0.18', '-0.18', '-0.18', '-0.17', '-0.16', '-0.17', '-0.17', '-0.18', '-0.18', '-0.18', '-0.19', '-0.18', '-0.17', '-0.17', '-0.18', '-0.18', '-0.19', '-0.18', '-0.20', '-0.20', '-0.20', '-0.19', '-0.19', '-0.20', '-0.22', '-0.22', '-0.21', '-0.19', '-0.17', '-0.19', '-0.18', '-0.18', '-0.18', '-0.17', '-0.19', '-0.19', '-0.21', '-0.22', '-0.21', '-0.22', '-0.22', '-0.22', '-0.22', '-0.22', '-0.25', '-0.26', '-0.27', '-0.25', '-0.24', '-0.25', '-0.24', '-0.24', '-0.24', '-0.25', '-0.25', '-0.25', '-0.24', '-0.24', '-0.24', '-0.26', '-0.28', '-0.25', '-0.26', '-0.25', '-0.24', '-0.27', '-0.25', '-0.24', '-0.25', '-0.25', '-0.26', '-0.25', '-0.23', '-0.24', '-0.24', '-0.23', '-0.21', '-0.20', '-0.20', '-0.22', '-0.21', '-0.18', '-0.21', '-0.22', '-0.23', '-0.23', '-0.23', '-0.22', '-0.21', '-0.20', '-0.22', '-0.21', '-0.22', '-0.24', '-0.23', '-0.23', '-0.22', '-0.23', '-0.25', '-0.26', '-0.26', '-0.27', '-0.26', '-0.25', '-0.25', '-0.24', '-0.24', '-0.23', '-0.24', '-0.26', '-0.27', '-0.27', '-0.25', '-0.24', '-0.23', '-0.25', '-0.26', '-0.29', '-0.28', '-0.28', '-0.29', '-0.29', '-0.27', '-0.25', '-0.27', '-0.27', '-0.27', '-0.27', '-0.28', '-0.28', '-0.27', '-0.25', '-0.23', '-0.23', '-0.23', '-0.21', '-0.19', '-0.19', '-0.19', '-0.20', '-0.23', '-0.22', '-0.23', '-0.26', '-0.24', '-0.22', '-0.21', '-0.19', '-0.19', '-0.21', '-0.21', '-0.22', '-0.18', '-0.21', '-0.21', '-0.23', '-0.22', '-0.23', '-0.23', '-0.23', '-0.21', '-0.20', '-0.21', '-0.23', '-0.22', '-0.25', '-0.24', '-0.27', '-0.26', '-0.27', '-0.21', '-0.22', '-0.21', '-0.20', '-0.20', '-0.20', '-0.19', '-0.18', '-0.17', '-0.17', '-0.15', '-0.17', '-0.17']\n"
     ]
    }
   ],
   "source": [
    "print(f'The differences between the last two yield curves in the yield matrix are')\n",
    "print(f'{difference_list}')"
   ],
   "metadata": {
    "collapsed": false
   }
  },
  {
   "cell_type": "code",
   "execution_count": null,
   "outputs": [],
   "source": [],
   "metadata": {
    "collapsed": false
   }
  }
 ],
 "metadata": {
  "kernelspec": {
   "display_name": "Python 3 (ipykernel)",
   "language": "python",
   "name": "python3"
  },
  "language_info": {
   "codemirror_mode": {
    "name": "ipython",
    "version": 3
   },
   "file_extension": ".py",
   "mimetype": "text/x-python",
   "name": "python",
   "nbconvert_exporter": "python",
   "pygments_lexer": "ipython3",
   "version": "3.11.2"
  }
 },
 "nbformat": 4,
 "nbformat_minor": 1
}
